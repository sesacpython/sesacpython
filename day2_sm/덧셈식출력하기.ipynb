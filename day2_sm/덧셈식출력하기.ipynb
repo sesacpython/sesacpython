{
 "cells": [
  {
   "cell_type": "code",
   "execution_count": null,
   "metadata": {},
   "outputs": [],
   "source": [
    "a,b = list(map(int,input().split(\" \")))\n",
    "if (1<= a <= 100) and (1<= b <= 100):\n",
    "    print(f'{a} + {b} = {a+b}')\n",
    "else:\n",
    "    pass\n",
    "    "
   ]
  }
 ],
 "metadata": {
  "kernelspec": {
   "display_name": "sesac",
   "language": "python",
   "name": "python3"
  },
  "language_info": {
   "name": "python",
   "version": "3.10.15"
  }
 },
 "nbformat": 4,
 "nbformat_minor": 2
}
