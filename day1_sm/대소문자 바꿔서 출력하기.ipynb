{
 "cells": [
  {
   "cell_type": "code",
   "execution_count": 2,
   "metadata": {},
   "outputs": [
    {
     "name": "stdout",
     "output_type": "stream",
     "text": [
      "<built-in method upper of str object at 0x0000019256246A30>\n",
      "<built-in method upper of str object at 0x000001925623C270>\n",
      "<built-in method upper of str object at 0x000001925623EE70>\n",
      "<built-in method upper of str object at 0x000001925623EE70>\n",
      "<built-in method upper of str object at 0x00000192561FD1F0>\n"
     ]
    }
   ],
   "source": [
    "str = input()\n",
    "for i in str:\n",
    "    if 1<= len(str) <=20: \n",
    "        if i.upper == i:\n",
    "            print(i.lower)\n",
    "        else:\n",
    "            print(i.upper)\n",
    "    else:\n",
    "        pass"
   ]
  },
  {
   "cell_type": "code",
   "execution_count": 12,
   "metadata": {},
   "outputs": [
    {
     "name": "stdout",
     "output_type": "stream",
     "text": [
      "HELLO"
     ]
    }
   ],
   "source": [
    "str = input()\n",
    "for i in range(0,len(str)):\n",
    "    if 1 <= len(str) <=20:\n",
    "        if str[i].upper() == str[i]:\n",
    "            print (str[i].lower(),end='')\n",
    "        else:\n",
    "            print (str[i].upper(),end='')\n",
    "    else:\n",
    "        pass"
   ]
  },
  {
   "cell_type": "code",
   "execution_count": null,
   "metadata": {},
   "outputs": [],
   "source": []
  }
 ],
 "metadata": {
  "kernelspec": {
   "display_name": "sesac",
   "language": "python",
   "name": "python3"
  },
  "language_info": {
   "codemirror_mode": {
    "name": "ipython",
    "version": 3
   },
   "file_extension": ".py",
   "mimetype": "text/x-python",
   "name": "python",
   "nbconvert_exporter": "python",
   "pygments_lexer": "ipython3",
   "version": "3.10.15"
  }
 },
 "nbformat": 4,
 "nbformat_minor": 2
}
